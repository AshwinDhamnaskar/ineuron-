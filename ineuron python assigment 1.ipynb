{
 "cells": [
  {
   "cell_type": "markdown",
   "id": "f23df9fa",
   "metadata": {},
   "source": [
    "##1. In the below elements which of them are values or an expression? eg:- values can be\n",
    "integer or string and expressions will be mathematical operators.\n",
    "\n",
    "* = Mathematical operator\n",
    "hello = String\n",
    "-87.8 = boolean\n",
    "- = Mathematical operator\n",
    "/ = Mathematical operator\n",
    "+ =Mathematical operator\n",
    "6 = interger"
   ]
  },
  {
   "cell_type": "markdown",
   "id": "146a92fd",
   "metadata": {},
   "source": [
    "2. What is the difference between string and variable?\n",
    "   String:Collection of characters which starts with single ,double or triple  quotes\n",
    "   eg:str= \"Hello world\"\n",
    "   Variable::  Are the container to store the data values by declaring a        variable \n"
   ]
  },
  {
   "cell_type": "markdown",
   "id": "8c607eb6",
   "metadata": {},
   "source": [
    "3. Describe three different data types.\n",
    "--String\n",
    "--list\n",
    "--Tuple\n",
    "--Set\n",
    "--Dictionary\n",
    "--int\n",
    "--boolean"
   ]
  },
  {
   "cell_type": "markdown",
   "id": "346dba32",
   "metadata": {},
   "source": [
    "4. What is an expression made up of? What do all expressions do?\n",
    "Expression is made uo of variables,operators and operands\n",
    "Expression is representations of value"
   ]
  },
  {
   "cell_type": "markdown",
   "id": "dc855d51",
   "metadata": {},
   "source": [
    "5. This assignment statements, like spam = 10. What is the difference between an expression and a statement?\n",
    "Expression is made up of values, operators ,containers \n",
    "statement is like a command that a pyhton interpreter exceutes\n",
    "where variable is spam asigned value is 10 and = is the operator"
   ]
  },
  {
   "cell_type": "markdown",
   "id": "e38e1a85",
   "metadata": {},
   "source": [
    "6. After running the following code, what does the variable bacon contain?\n",
    "bacon = 22\n",
    "bacon + 1"
   ]
  },
  {
   "cell_type": "code",
   "execution_count": 4,
   "id": "b46736c8",
   "metadata": {},
   "outputs": [],
   "source": [
    "bacon = 22"
   ]
  },
  {
   "cell_type": "code",
   "execution_count": 5,
   "id": "e18b6f83",
   "metadata": {},
   "outputs": [
    {
     "data": {
      "text/plain": [
       "23"
      ]
     },
     "execution_count": 5,
     "metadata": {},
     "output_type": "execute_result"
    }
   ],
   "source": [
    "bacon + 1"
   ]
  },
  {
   "cell_type": "markdown",
   "id": "b464decf",
   "metadata": {},
   "source": [
    "7. What should the values of the following two terms be?\n",
    "'spam' + 'spamspam'\n",
    "'spam' + 3"
   ]
  },
  {
   "cell_type": "code",
   "execution_count": 6,
   "id": "3e0e07eb",
   "metadata": {},
   "outputs": [
    {
     "data": {
      "text/plain": [
       "'spamspamspam'"
      ]
     },
     "execution_count": 6,
     "metadata": {},
     "output_type": "execute_result"
    }
   ],
   "source": [
    "'spam' + 'spamspam'"
   ]
  },
  {
   "cell_type": "code",
   "execution_count": 8,
   "id": "753c6d73",
   "metadata": {},
   "outputs": [
    {
     "data": {
      "text/plain": [
       "'spamspamspam'"
      ]
     },
     "execution_count": 8,
     "metadata": {},
     "output_type": "execute_result"
    }
   ],
   "source": [
    "'spam' * 3"
   ]
  },
  {
   "cell_type": "markdown",
   "id": "314175ae",
   "metadata": {},
   "source": [
    "8. Why is eggs a valid variable name while 100 is invalid?\n",
    "-- Because variable names cannot begin with a number "
   ]
  },
  {
   "cell_type": "markdown",
   "id": "d6b94d40",
   "metadata": {},
   "source": [
    "9. What three functions can be used to get the integer, floating-point number, or string version of a value?\n",
    "Ans:int(),float(),string()\n"
   ]
  },
  {
   "cell_type": "markdown",
   "id": "18adeb2f",
   "metadata": {},
   "source": [
    "10. Why does this expression cause an error? How can you fix it"
   ]
  },
  {
   "cell_type": "code",
   "execution_count": 16,
   "id": "79f301b9",
   "metadata": {},
   "outputs": [
    {
     "data": {
      "text/plain": [
       "'I have eatenburritos'"
      ]
     },
     "execution_count": 16,
     "metadata": {},
     "output_type": "execute_result"
    }
   ],
   "source": [
    "'I have eaten' +   'burritos'"
   ]
  },
  {
   "cell_type": "code",
   "execution_count": 17,
   "id": "58d57b68",
   "metadata": {},
   "outputs": [
    {
     "data": {
      "text/plain": [
       "'I have eaten99burritos'"
      ]
     },
     "execution_count": 17,
     "metadata": {},
     "output_type": "execute_result"
    }
   ],
   "source": [
    "'I have eaten' + str(99) +  'burritos'"
   ]
  },
  {
   "cell_type": "code",
   "execution_count": null,
   "id": "6aa6e3d2",
   "metadata": {},
   "outputs": [],
   "source": []
  }
 ],
 "metadata": {
  "kernelspec": {
   "display_name": "Python 3 (ipykernel)",
   "language": "python",
   "name": "python3"
  },
  "language_info": {
   "codemirror_mode": {
    "name": "ipython",
    "version": 3
   },
   "file_extension": ".py",
   "mimetype": "text/x-python",
   "name": "python",
   "nbconvert_exporter": "python",
   "pygments_lexer": "ipython3",
   "version": "3.9.12"
  }
 },
 "nbformat": 4,
 "nbformat_minor": 5
}
